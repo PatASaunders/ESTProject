{
 "cells": [
  {
   "cell_type": "code",
   "execution_count": 15,
   "metadata": {},
   "outputs": [],
   "source": [
    "\n",
    "\n"
   ]
  },
  {
   "cell_type": "code",
   "execution_count": null,
   "metadata": {},
   "outputs": [],
   "source": [
    "\n"
   ]
  },
  {
   "cell_type": "code",
   "execution_count": null,
   "metadata": {},
   "outputs": [],
   "source": []
  },
  {
   "cell_type": "code",
   "execution_count": 44,
   "metadata": {},
   "outputs": [
    {
     "name": "stdout",
     "output_type": "stream",
     "text": [
      "1970 ok\n",
      "1971 ok\n",
      "1972 ok\n",
      "1973 ok\n",
      "1974 ok\n",
      "1975 ok\n",
      "1976 ok\n",
      "1977 ok\n",
      "1978 ok\n",
      "1979 ok\n",
      "1980 ok\n",
      "1981 ok\n",
      "1982 ok\n",
      "1983 ok\n",
      "1984 ok\n",
      "1985 ok\n",
      "1986 ok\n",
      "1987 ok\n",
      "1988 ok\n",
      "1989 ok\n",
      "1990 ok\n",
      "1991 ok\n",
      "1992 ok\n",
      "1993 ok\n",
      "1994 ok\n",
      "1995 ok\n",
      "1996 ok\n",
      "1997 ok\n",
      "1998 ok\n",
      "1999 ok\n",
      "2000 ok\n",
      "2001 ok\n",
      "2002 ok\n",
      "2003 ok\n",
      "2004 ok\n",
      "2005 ok\n",
      "2006 ok\n",
      "2007 ok\n",
      "2008 ok\n",
      "2009 ok\n",
      "2010 ok\n",
      "2011 ok\n",
      "2012 ok\n",
      "2013 ok\n",
      "2014 ok\n",
      "2015 ok\n",
      "2016 ok\n",
      "2017 ok\n",
      "2018 ok\n",
      "2019 ok\n",
      "2020 ok\n"
     ]
    }
   ],
   "source": [
    "\n",
    "from bs4 import BeautifulSoup as bs\n",
    "import requests\n",
    "import re\n",
    "import numpy as np\n",
    "import time\n",
    "import random\n",
    "\n",
    "dates  = []\n",
    "prices = []\n",
    "url1 = \"https://www.usagold.com/reference/goldprices/\"\n",
    "url2 = \"https://www.usagold.com/reference/prices/goldhistory.php?ddYears=\"\n",
    "headers = {'User-Agent': 'Mozilla/5.0 (Macintosh; Intel Mac OS X 10_11_5) AppleWebKit/537.36 (KHTML, like Gecko) Chrome/80.0.3987.163 Safari/537.36'}\n",
    "\n",
    "for year in years:\n",
    "\n",
    "    if year >= 2017:\n",
    "        page = requests.get(url2 + str(year), headers=headers)\n",
    "        soup = bs(page.text, 'html.parser')\n",
    "        table = (soup.find(\"div\", {\"id\": \"quotes\"})).text\n",
    "        table = (table.split())[2:]\n",
    "    else:\n",
    "        page = requests.get(url1 + str(year) + '.html', headers=headers)\n",
    "        soup = bs(page.text, 'html.parser')\n",
    "        table = (soup.find(\"div\", {\"id\": \"quotes\"})).text\n",
    "        table = table.split()\n",
    "    temp_dates  = []\n",
    "    temp_prices = []\n",
    "    \n",
    "    if year>=2012:\n",
    "        temp=0\n",
    "        index=1\n",
    "        \n",
    "        for i in table:\n",
    "            if index % 4 ==0:\n",
    "                temp_prices.append(i)\n",
    "                temp = temp[2:]\n",
    "                temp_dates.append(temp)\n",
    "                temp=0\n",
    "            else:\n",
    "                temp = str(temp)+\"-\"+str(i)\n",
    "            index=index+1\n",
    "        dates.append(temp_dates)\n",
    "        prices.append(temp_prices)\n",
    "        \n",
    "    else:\n",
    "        index=0\n",
    "        for i in table:\n",
    "            if \"-\" not in i:\n",
    "                temp_prices.append(i)\n",
    "            else:\n",
    "                temp_dates.append(i)\n",
    "                if \"-\" in table[index+1]:\n",
    "                    temp_prices.append(\"NA\")\n",
    "                else:\n",
    "                    pass\n",
    "            index=index+1\n",
    "        dates.append(temp_dates)\n",
    "        prices.append(temp_prices)\n",
    "    time.sleep(random.uniform(2.5,3.8))\n",
    "    print(str(year)+\" ok\")\n",
    "\n"
   ]
  },
  {
   "cell_type": "code",
   "execution_count": 47,
   "metadata": {},
   "outputs": [],
   "source": [
    "#prices\n",
    "#dates"
   ]
  },
  {
   "cell_type": "code",
   "execution_count": null,
   "metadata": {},
   "outputs": [],
   "source": []
  },
  {
   "cell_type": "code",
   "execution_count": null,
   "metadata": {},
   "outputs": [],
   "source": []
  }
 ],
 "metadata": {
  "kernelspec": {
   "display_name": "Python 3",
   "language": "python",
   "name": "python3"
  },
  "language_info": {
   "codemirror_mode": {
    "name": "ipython",
    "version": 3
   },
   "file_extension": ".py",
   "mimetype": "text/x-python",
   "name": "python",
   "nbconvert_exporter": "python",
   "pygments_lexer": "ipython3",
   "version": "3.7.0"
  }
 },
 "nbformat": 4,
 "nbformat_minor": 2
}
